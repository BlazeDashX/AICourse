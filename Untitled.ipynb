{
 "cells": [
  {
   "cell_type": "code",
   "execution_count": 5,
   "id": "94416e13-7789-4df8-9ee2-8218c00b5b93",
   "metadata": {},
   "outputs": [
    {
     "name": "stdout",
     "output_type": "stream",
     "text": [
      "HI\n"
     ]
    }
   ],
   "source": [
    "print(\"HI\")"
   ]
  },
  {
   "cell_type": "markdown",
   "id": "66f32ceb-838e-43df-8107-bb1d48cedc27",
   "metadata": {},
   "source": [
    "**IF you want to rrun the cell . press Shift+Enter**\n",
    "\n",
    "## Variable and Data Type"
   ]
  },
  {
   "cell_type": "code",
   "execution_count": 14,
   "id": "4636cab5-5bb6-46c8-91a8-8fe405cb7655",
   "metadata": {},
   "outputs": [
    {
     "name": "stdout",
     "output_type": "stream",
     "text": [
      "10\n",
      "<class 'int'>\n",
      "10.5\n",
      "<class 'float'>\n"
     ]
    }
   ],
   "source": [
    "a=10\n",
    "print (a)\n",
    "print (type(a)) #integer\n",
    "b=10.5\n",
    "print (b)\n",
    "print (type(b)) #float"
   ]
  },
  {
   "cell_type": "code",
   "execution_count": 30,
   "id": "4ad15179-80a5-47ea-929a-b5c9ac8c079f",
   "metadata": {},
   "outputs": [
    {
     "name": "stdout",
     "output_type": "stream",
     "text": [
      "Labbi\n",
      "<class 'str'>\n",
      "5\n",
      "I Love Python\n"
     ]
    }
   ],
   "source": [
    "name = \"Labbi\"\n",
    "print (name) \n",
    "print (type(name))\n",
    "print (len(name))\n",
    "\n",
    "str1=\"I Love \"\n",
    "str2=\"Python\"\n",
    "print(str1+str2)"
   ]
  },
  {
   "cell_type": "code",
   "execution_count": 36,
   "id": "ad542732-e8c2-4eb4-b65f-9d3d026456c2",
   "metadata": {},
   "outputs": [
    {
     "name": "stdout",
     "output_type": "stream",
     "text": [
      "True\n",
      "<class 'bool'>\n"
     ]
    }
   ],
   "source": [
    "a = True\n",
    "print(a)\n",
    "print(type(a))"
   ]
  },
  {
   "cell_type": "markdown",
   "id": "fc8746c4-06ae-4a25-bc03-c53082a44dd4",
   "metadata": {},
   "source": [
    "## Operator And Expression\n",
    "1. Assingment Operator\n",
    "2. Arithmetic Operator\n",
    "3. Logical Operator"
   ]
  },
  {
   "cell_type": "code",
   "execution_count": 64,
   "id": "cd9b7701-9c22-4170-83ba-4f1ccb5be40a",
   "metadata": {},
   "outputs": [
    {
     "name": "stdout",
     "output_type": "stream",
     "text": [
      "30\n",
      "-10\n",
      "200\n",
      "0.5\n",
      "0\n",
      "10\n",
      "100\n"
     ]
    }
   ],
   "source": [
    "a=10\n",
    "b=20\n",
    "\n",
    "print(a+b)\n",
    "print(a-b)\n",
    "print(a*b)\n",
    "print(a/b) # floating point\n",
    "print(a//b) # Integer devision\n",
    "print(a%b)\n",
    "print(a**2) #power"
   ]
  },
  {
   "cell_type": "markdown",
   "id": "b7427e60-4ea7-4a5f-8807-d3fb2cd92f2c",
   "metadata": {},
   "source": [
    "## Logical Operator"
   ]
  },
  {
   "cell_type": "code",
   "execution_count": 73,
   "id": "8af5a397-c5e0-416e-968b-a14d8fc294a8",
   "metadata": {},
   "outputs": [
    {
     "name": "stdout",
     "output_type": "stream",
     "text": [
      "False\n",
      "True\n",
      "False\n",
      "True\n",
      "False\n",
      "True\n"
     ]
    }
   ],
   "source": [
    "a= 10\n",
    "b=20\n",
    "print(a>b)\n",
    "print (a<b)\n",
    "print(a>=b)\n",
    "print (a<=b)\n",
    "print(a==b)\n",
    "print (a!=b)"
   ]
  },
  {
   "cell_type": "code",
   "execution_count": 77,
   "id": "0a96dd4e-caa3-4538-8253-e7592976826c",
   "metadata": {},
   "outputs": [
    {
     "name": "stdout",
     "output_type": "stream",
     "text": [
      "False\n",
      "False\n",
      "False\n",
      "False\n"
     ]
    }
   ],
   "source": [
    "a=10\n",
    "b=20\n",
    "c=30\n",
    "\n",
    "print((a>b) & (b>c))\n",
    "print((a>b) and (b>c))\n",
    "print((a>b) | (b>c))\n",
    "print((a>b) or (b>c))"
   ]
  },
  {
   "cell_type": "markdown",
   "id": "778505e4-685a-45e2-931f-baac31c342a6",
   "metadata": {},
   "source": [
    "## Condition"
   ]
  },
  {
   "cell_type": "code",
   "execution_count": 82,
   "id": "179e7789-7e1e-4c20-933e-2ffa2fc769dc",
   "metadata": {},
   "outputs": [
    {
     "name": "stdout",
     "output_type": "stream",
     "text": [
      "a is less than b \n"
     ]
    }
   ],
   "source": [
    "a= 10\n",
    "b= 20\n",
    "if a>b:\n",
    "    print(\"a is greater than B\")\n",
    "else:\n",
    "    print(\"a is less than b \")"
   ]
  },
  {
   "cell_type": "code",
   "execution_count": 92,
   "id": "c107bc75-7c9f-45b0-8c76-72275f1cfa09",
   "metadata": {},
   "outputs": [
    {
     "name": "stdout",
     "output_type": "stream",
     "text": [
      "Not Adult\n"
     ]
    }
   ],
   "source": [
    "age = 16\n",
    "\n",
    "if age<18:\n",
    "    print(\"Not Adult\")\n",
    "elif age<18 and age <=50:\n",
    "    print(\"Adult\")\n",
    "else:\n",
    "    print(\"OLD\")\n"
   ]
  },
  {
   "cell_type": "markdown",
   "id": "1ed9f674-d278-436f-b510-a1c666d1459a",
   "metadata": {},
   "source": [
    "## Loop"
   ]
  },
  {
   "cell_type": "code",
   "execution_count": 102,
   "id": "755cda0a-7fa8-4145-a10e-18cf9b0e4589",
   "metadata": {},
   "outputs": [
    {
     "name": "stdout",
     "output_type": "stream",
     "text": [
      "range(0, 10)\n",
      "<class 'range'>\n",
      "range(0, 5)\n"
     ]
    }
   ],
   "source": [
    "print(range (10))\n",
    "print(type(range (10)))\n",
    "a=range (0,5)\n",
    "print (a)\n"
   ]
  },
  {
   "cell_type": "code",
   "execution_count": 126,
   "id": "04f0799c-ba2f-4337-8321-e2a26a7a3157",
   "metadata": {},
   "outputs": [
    {
     "name": "stdout",
     "output_type": "stream",
     "text": [
      "0 1 2 3 4 \n",
      "\n",
      "0\n",
      "1\n",
      "2\n",
      "3\n",
      "4\n",
      "\n",
      "\n",
      "-5 -4 -3 -2 -1 0 1 2 3 4 "
     ]
    }
   ],
   "source": [
    "for i in range(5):\n",
    "    print (i,end=\" \")\n",
    "print(\"\\n\")\n",
    "for i in range(5):\n",
    "    print (i,end=\"\\n\")\n",
    "print(\"\\n\")\n",
    "for i in range(-5,5):\n",
    "    print (i,end=\" \")"
   ]
  },
  {
   "cell_type": "code",
   "execution_count": 128,
   "id": "9f4e08ab-cc80-43d9-8a5e-92d42e5ad9c7",
   "metadata": {},
   "outputs": [
    {
     "name": "stdout",
     "output_type": "stream",
     "text": [
      "0\t2\t4\t6\t8\t"
     ]
    }
   ],
   "source": [
    "for i in range(0,10,2):\n",
    "    print (i,end=\"\\t\")"
   ]
  },
  {
   "cell_type": "code",
   "execution_count": 130,
   "id": "8ef472ce-ced9-4433-aa3e-8001dcf13eda",
   "metadata": {},
   "outputs": [
    {
     "name": "stdout",
     "output_type": "stream",
     "text": [
      "10\t8\t6\t4\t2\t"
     ]
    }
   ],
   "source": [
    "for i in range(10,0,-2):\n",
    "    print (i,end=\"\\t\")"
   ]
  },
  {
   "cell_type": "code",
   "execution_count": null,
   "id": "51ae9088-069e-4ab6-8aeb-5fef61822ca5",
   "metadata": {},
   "outputs": [],
   "source": []
  }
 ],
 "metadata": {
  "kernelspec": {
   "display_name": "Python [conda env:base] *",
   "language": "python",
   "name": "conda-base-py"
  },
  "language_info": {
   "codemirror_mode": {
    "name": "ipython",
    "version": 3
   },
   "file_extension": ".py",
   "mimetype": "text/x-python",
   "name": "python",
   "nbconvert_exporter": "python",
   "pygments_lexer": "ipython3",
   "version": "3.12.7"
  }
 },
 "nbformat": 4,
 "nbformat_minor": 5
}
